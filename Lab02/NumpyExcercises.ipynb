{
  "metadata": {
    "kernelspec": {
      "language": "python",
      "display_name": "Python 3",
      "name": "python3"
    },
    "language_info": {
      "name": "python",
      "version": "3.10.14",
      "mimetype": "text/x-python",
      "codemirror_mode": {
        "name": "ipython",
        "version": 3
      },
      "pygments_lexer": "ipython3",
      "nbconvert_exporter": "python",
      "file_extension": ".py"
    },
    "kaggle": {
      "accelerator": "none",
      "dataSources": [],
      "dockerImageVersionId": 30775,
      "isInternetEnabled": true,
      "language": "python",
      "sourceType": "notebook",
      "isGpuEnabled": false
    },
    "colab": {
      "name": "RN-2024-Lab01",
      "provenance": [],
      "include_colab_link": true
    }
  },
  "nbformat_minor": 0,
  "nbformat": 4,
  "cells": [
    {
      "cell_type": "markdown",
      "metadata": {
        "id": "view-in-github",
        "colab_type": "text"
      },
      "source": [
        "<a href=\"https://colab.research.google.com/github/Tensor-Reloaded/Neural-Networks-Template-2024/blob/main/Lab02/NumpyExcercises.ipynb\" target=\"_parent\"><img src=\"https://colab.research.google.com/assets/colab-badge.svg\" alt=\"Open In Colab\"/></a>"
      ]
    },
    {
      "cell_type": "markdown",
      "source": [
        "# Excercises with numpy"
      ],
      "metadata": {
        "id": "1osmmLv1t8Vc"
      }
    },
    {
      "cell_type": "code",
      "source": [
        "%pip install timed-decorator"
      ],
      "metadata": {
        "colab": {
          "base_uri": "https://localhost:8080/"
        },
        "id": "R-psdy852TWD",
        "outputId": "81c31bfd-d099-4422-810a-699612394d98"
      },
      "execution_count": 77,
      "outputs": [
        {
          "output_type": "stream",
          "name": "stdout",
          "text": [
            "Requirement already satisfied: timed-decorator in /usr/local/lib/python3.10/dist-packages (1.5.2)\n"
          ]
        }
      ]
    },
    {
      "cell_type": "code",
      "source": [
        "import numpy as np\n",
        "from sklearn.metrics import confusion_matrix, accuracy_score, f1_score\n",
        "from timed_decorator.simple_timed import timed\n",
        "from typing import Tuple"
      ],
      "metadata": {
        "id": "Pv2iHv15vu67"
      },
      "execution_count": 78,
      "outputs": []
    },
    {
      "cell_type": "code",
      "source": [
        "predicted = np.array([\n",
        "    1,1,1,0,1,0,1,1,0,0\n",
        "])\n",
        "actual = np.array([\n",
        "    1,1,1,1,0,0,1,0,0,0\n",
        "])\n",
        "\n",
        "big_size = 500000\n",
        "big_actual = np.repeat(actual, big_size)\n",
        "big_predicted = np.repeat(predicted, big_size)\n"
      ],
      "metadata": {
        "id": "7OOZ-UGxt77b"
      },
      "execution_count": 79,
      "outputs": []
    },
    {
      "cell_type": "markdown",
      "source": [
        "If you are not familiar with the confusion matrix for binary classification, check https://www.geeksforgeeks.org/confusion-matrix-machine-learning/#what-is-a-confusion-matrix"
      ],
      "metadata": {
        "id": "WR9T8rfg94YQ"
      }
    },
    {
      "cell_type": "markdown",
      "source": [
        "### Exercise 1\n",
        "\n",
        "Implement a method to retrieve the confusion matrix values using numpy operations. Aim to make your method faster than the sklearn implementation."
      ],
      "metadata": {
        "id": "DlvLoCK835ta"
      }
    },
    {
      "cell_type": "code",
      "source": [
        "@timed(use_seconds=True, show_args=True)\n",
        "def tp_fp_fn_tn_sklearn(gt: np.ndarray, pred: np.ndarray) -> Tuple[int, ...]:\n",
        "    tn, fp, fn, tp = confusion_matrix(gt, pred).ravel()\n",
        "    return tp, fp, fn, tn\n",
        "\n",
        "\n",
        "@timed(use_seconds=True, show_args=True)\n",
        "def tp_fp_fn_tn_numpy(gt: np.ndarray, pred: np.ndarray) -> Tuple[int, ...]:\n",
        "    raise NotImplementedError()\n",
        "\n",
        "\n",
        "assert tp_fp_fn_tn_sklearn(actual, predicted) == tp_fp_fn_tn_numpy(actual, predicted)"
      ],
      "metadata": {
        "id": "KXCV8jvPydpC"
      },
      "execution_count": null,
      "outputs": []
    },
    {
      "cell_type": "code",
      "source": [
        "rez_1 = tp_fp_fn_tn_sklearn(big_actual, big_predicted)\n",
        "rez_2 = tp_fp_fn_tn_numpy(big_actual, big_predicted)\n",
        "\n",
        "assert rez_1 == rez_2"
      ],
      "metadata": {
        "id": "qlxFQ_1Pywjb"
      },
      "execution_count": null,
      "outputs": []
    },
    {
      "cell_type": "markdown",
      "source": [
        "```\n",
        "tp_fp_fn_tn_sklearn(ndarray(5000000,), ndarray(5000000,)) -> total time: 1.362611559s\n",
        "tp_fp_fn_tn_numpy(ndarray(5000000,), ndarray(5000000,)) -> total time: 0.061580794s\n",
        "```"
      ],
      "metadata": {
        "id": "LuJUVV1c_Iu8"
      }
    },
    {
      "cell_type": "markdown",
      "source": [
        "### Exercise 2\n",
        "\n",
        "Implement a method to retrieve the calculate the accuracy using numpy operations."
      ],
      "metadata": {
        "id": "9VtOouGY-dGU"
      }
    },
    {
      "cell_type": "markdown",
      "source": [
        "Accuracy = $\\frac{TP + TN}{TP + FP + FN + TN}$"
      ],
      "metadata": {
        "id": "FrOvVlQi6Vqx"
      }
    },
    {
      "cell_type": "code",
      "source": [
        "@timed(use_seconds=True, show_args=True)\n",
        "def accuracy_sklearn(gt: np.ndarray, pred: np.ndarray) -> float:\n",
        "    return accuracy_score(gt, pred)\n",
        "\n",
        "\n",
        "@timed(use_seconds=True, show_args=True)\n",
        "def accuracy_numpy(gt: np.ndarray, pred: np.ndarray) -> float:\n",
        "    raise NotImplementedError()\n",
        "\n",
        "\n",
        "assert accuracy_sklearn(actual, predicted) == accuracy_numpy(actual, predicted)"
      ],
      "metadata": {
        "id": "FvGCS4wo149M"
      },
      "execution_count": null,
      "outputs": []
    },
    {
      "cell_type": "code",
      "source": [
        "rez_1 = accuracy_sklearn(big_actual, big_predicted)\n",
        "rez_2 = accuracy_numpy(big_actual, big_predicted)\n",
        "\n",
        "assert np.isclose(rez_1, rez_2)"
      ],
      "metadata": {
        "id": "yYwMTAdX13RU"
      },
      "execution_count": null,
      "outputs": []
    },
    {
      "cell_type": "markdown",
      "source": [
        "```\n",
        "accuracy_sklearn(ndarray(5000000,), ndarray(5000000,)) -> total time: 0.737005607s\n",
        "accuracy_numpy(ndarray(5000000,), ndarray(5000000,)) -> total time: 0.045633154s\n",
        "```"
      ],
      "metadata": {
        "id": "Y4vOxFRX_DbN"
      }
    },
    {
      "cell_type": "markdown",
      "source": [
        "## Excercise 3\n",
        "\n",
        "Implement a method to calculate the F1-Score using numpy operations. Be careful at corner cases (divide by 0)."
      ],
      "metadata": {
        "id": "9a4kiUip-iaB"
      }
    },
    {
      "cell_type": "markdown",
      "source": [
        "Precision = $\\frac{TP}{TP + FP}$\n",
        "\n",
        "Recall = $\\frac{TP}{TP + FN}$\n",
        "\n",
        "F1-Score = $2 \\cdot \\frac{Precision \\cdot Recall}{Precision + Recall}$"
      ],
      "metadata": {
        "id": "xlVLJUKe6nLf"
      }
    },
    {
      "cell_type": "code",
      "source": [
        "@timed(use_seconds=True, show_args=True)\n",
        "def f1_score_sklearn(gt: np.ndarray, pred: np.ndarray) -> float:\n",
        "    return f1_score(gt, pred)\n",
        "\n",
        "\n",
        "@timed(use_seconds=True, show_args=True)\n",
        "def f1_score_numpy(gt: np.ndarray, pred: np.ndarray) -> float:\n",
        "    raise NotImplementedError()\n",
        "\n",
        "\n",
        "assert f1_score_sklearn(actual, predicted) == f1_score_numpy(actual, predicted)"
      ],
      "metadata": {
        "id": "bf26jyp65jWp"
      },
      "execution_count": null,
      "outputs": []
    },
    {
      "cell_type": "code",
      "source": [
        "rez_1 = f1_score_sklearn(big_actual, big_predicted)\n",
        "rez_2 = f1_score_numpy(big_actual, big_predicted)\n",
        "\n",
        "assert np.isclose(rez_1, rez_2)"
      ],
      "metadata": {
        "id": "a2LsucKI5rB4"
      },
      "execution_count": null,
      "outputs": []
    },
    {
      "cell_type": "markdown",
      "source": [
        "```\n",
        "f1_score_sklearn(ndarray(5000000,), ndarray(5000000,)) -> total time: 5.300984584s\n",
        "f1_score_numpy(ndarray(5000000,), ndarray(5000000,)) -> total time: 0.042523483s\n",
        "```"
      ],
      "metadata": {
        "id": "uVLThSs4-9GP"
      }
    }
  ]
}